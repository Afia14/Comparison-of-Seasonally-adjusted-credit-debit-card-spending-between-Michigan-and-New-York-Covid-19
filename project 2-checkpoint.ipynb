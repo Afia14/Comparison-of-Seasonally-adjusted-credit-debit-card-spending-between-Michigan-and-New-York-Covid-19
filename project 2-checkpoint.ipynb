{
 "cells": [
  {
   "cell_type": "code",
   "execution_count": 95,
   "metadata": {},
   "outputs": [],
   "source": [
    "import pandas as pd\n",
    "import numpy as np\n",
    "\n",
    "%matplotlib widget\n",
    "import matplotlib.pyplot as plt\n",
    "import seaborn as sns"
   ]
  },
  {
   "cell_type": "code",
   "execution_count": 188,
   "metadata": {},
   "outputs": [
    {
     "data": {
      "application/vnd.jupyter.widget-view+json": {
       "model_id": "11bf524e54784104bc1d6a8388a9a59e",
       "version_major": 2,
       "version_minor": 0
      },
      "text/plain": [
       "Canvas(toolbar=Toolbar(toolitems=[('Home', 'Reset original view', 'home', 'home'), ('Back', 'Back to previous …"
      ]
     },
     "metadata": {},
     "output_type": "display_data"
    }
   ],
   "source": [
    "afdf= pd.read_csv('C:\\\\Users\\\\User\\\\Desktop\\\\proj\\\\affinity_state_daily.csv',skiprows=afdf.iloc[1:358].index)\n",
    "\n",
    "state= pd.read_csv('C:\\\\Users\\\\User\\\\Desktop\\\\proj\\\\geoids_state.csv',usecols=[0,1])\n",
    "\n",
    "#Merge two datasets\n",
    "df=pd.merge(afdf,state, on='statefips')\n",
    "df['date']=pd.DatetimeIndex(df['date'])\n",
    "df=df.set_index(\"date\")\n",
    "df=df.drop(df.columns[0],axis=1).drop(df.columns[3],axis=1).drop(df.columns[4],axis=1).drop(df.columns[7],axis=1).drop(df.columns[6],axis=1).drop(df.columns[11:14],axis=1)\n",
    "\n",
    "#Data of New York\n",
    "newdf=df[df[\"statename\"]==\"New York\"]\n",
    "newdf=newdf.reset_index(drop=True).groupby(by=['month',\"day\"]).mean()\n",
    "newdf.columns = ['NY: arts, entertainment',\"NY: grocery & food store\",\"NY: health care\",\"NY: transportation,warehousing\"]\n",
    "\n",
    "#Data of Michigan\n",
    "Mich_df=df[df[\"statename\"]==\"Michigan\"]\n",
    "Mich_df=Mich_df.reset_index(drop=True).groupby(by=['month',\"day\"]).mean()\n",
    "Mich_df.columns = ['MI: arts, entertainment',\"MI: grocery & food store\",\"MI: health care\",\"MI: transportation,warehousing\"]\n",
    "\n",
    "#Merging data of two states together\n",
    "mergedDf = newdf.merge(Mich_df, left_index=True, right_index=True)\n",
    "\n",
    "#plotting\n",
    "styles = [\"-\",\"-\",\"-\",\"-\",'--','--','--','--']#['bs-','ro-','y^-'\n",
    "colors=[\"b\",\"r\",\"c\",\"m\",\"b\",\"r\",\"c\",\"m\"]\n",
    "ax=mergedDf.plot(style=styles,color=colors,figsize=(7,5),xticks=[0,19,48,79,109,140,170,201])\n",
    "ax.set_xticklabels(['Jan','Feb','Mar','Apr','May','Jun','Jul','Aug'])\n",
    "plt.legend(loc='upper right',prop={'size': 7})\n",
    "plt.xlabel(\"Months\")\n",
    "plt.ylabel('Mean normalized spending')\n",
    "plt.title('Comparison of Seasonally adjusted credit/debit card spending relative to \\n January 4-31 2020 between Michigan and New york')\n",
    "plt.show()"
   ]
  },
  {
   "cell_type": "code",
   "execution_count": null,
   "metadata": {},
   "outputs": [],
   "source": []
  }
 ],
 "metadata": {
  "kernelspec": {
   "display_name": "Python 3",
   "language": "python",
   "name": "python3"
  },
  "language_info": {
   "codemirror_mode": {
    "name": "ipython",
    "version": 3
   },
   "file_extension": ".py",
   "mimetype": "text/x-python",
   "name": "python",
   "nbconvert_exporter": "python",
   "pygments_lexer": "ipython3",
   "version": "3.8.4"
  }
 },
 "nbformat": 4,
 "nbformat_minor": 4
}
